{
 "cells": [
  {
   "cell_type": "markdown",
   "id": "a2be27c5",
   "metadata": {},
   "source": [
    "## EDA Notebook"
   ]
  },
  {
   "cell_type": "markdown",
   "id": "c1b3610a",
   "metadata": {},
   "source": [
    "### Contents:\n",
    "- "
   ]
  },
  {
   "cell_type": "markdown",
   "id": "431f7514",
   "metadata": {},
   "source": [
    "#### Imports"
   ]
  },
  {
   "cell_type": "code",
   "execution_count": 1,
   "id": "bae028f9",
   "metadata": {},
   "outputs": [],
   "source": [
    "import pandas as pd\n",
    "import matplotlib.pyplot as plt\n"
   ]
  },
  {
   "cell_type": "markdown",
   "id": "bd9b3226",
   "metadata": {},
   "source": [
    "#### Load In Data"
   ]
  },
  {
   "cell_type": "code",
   "execution_count": 4,
   "id": "ad9ea9ab",
   "metadata": {},
   "outputs": [
    {
     "name": "stdout",
     "output_type": "stream",
     "text": [
      "   id  Temparature  Humidity  Moisture Soil Type  Crop Type  Nitrogen  \\\n",
      "0   0           37        70        36    Clayey  Sugarcane        36   \n",
      "1   1           27        69        65     Sandy    Millets        30   \n",
      "2   2           29        63        32     Sandy    Millets        24   \n",
      "3   3           35        62        54     Sandy     Barley        39   \n",
      "4   4           35        58        43       Red      Paddy        37   \n",
      "\n",
      "   Potassium  Phosphorous Fertilizer Name  \n",
      "0          4            5           28-28  \n",
      "1          6           18           28-28  \n",
      "2         12           16        17-17-17  \n",
      "3         12            4        10-26-26  \n",
      "4          2           16             DAP  \n"
     ]
    }
   ],
   "source": [
    "# Load the data\n",
    "train_path = r\"C:\\Users\\johne\\Downloads\\train.csv\"\n",
    "train_df = pd.read_csv(train_path)\n",
    "\n",
    "# Head\n",
    "print(train_df.head())"
   ]
  },
  {
   "cell_type": "markdown",
   "id": "1fecb9af",
   "metadata": {},
   "source": [
    "#### Basic Stats\n"
   ]
  },
  {
   "cell_type": "code",
   "execution_count": 5,
   "id": "0d986c51",
   "metadata": {},
   "outputs": [
    {
     "name": "stdout",
     "output_type": "stream",
     "text": [
      "Unique values per column:\n",
      " id                 750000\n",
      "Temparature            14\n",
      "Humidity               23\n",
      "Moisture               41\n",
      "Soil Type               5\n",
      "Crop Type              11\n",
      "Nitrogen               39\n",
      "Potassium              20\n",
      "Phosphorous            43\n",
      "Fertilizer Name         7\n",
      "dtype: int64 \n",
      "\n",
      "Basic numeric stats:\n",
      "                   id    Temparature       Humidity       Moisture  \\\n",
      "count  750000.000000  750000.000000  750000.000000  750000.000000   \n",
      "mean   374999.500000      31.503565      61.038912      45.184147   \n",
      "std    216506.495284       4.025574       6.647695      11.794594   \n",
      "min         0.000000      25.000000      50.000000      25.000000   \n",
      "25%    187499.750000      28.000000      55.000000      35.000000   \n",
      "50%    374999.500000      32.000000      61.000000      45.000000   \n",
      "75%    562499.250000      35.000000      67.000000      55.000000   \n",
      "max    749999.000000      38.000000      72.000000      65.000000   \n",
      "\n",
      "            Nitrogen      Potassium    Phosphorous  \n",
      "count  750000.000000  750000.000000  750000.000000  \n",
      "mean       23.093808       9.478296      21.073227  \n",
      "std        11.216125       5.765622      12.346831  \n",
      "min         4.000000       0.000000       0.000000  \n",
      "25%        13.000000       4.000000      10.000000  \n",
      "50%        23.000000       9.000000      21.000000  \n",
      "75%        33.000000      14.000000      32.000000  \n",
      "max        42.000000      19.000000      42.000000   \n",
      "\n",
      "All-columns stats:\n",
      "                    id    Temparature       Humidity       Moisture Soil Type  \\\n",
      "count   750000.000000  750000.000000  750000.000000  750000.000000    750000   \n",
      "unique            NaN            NaN            NaN            NaN         5   \n",
      "top               NaN            NaN            NaN            NaN     Sandy   \n",
      "freq              NaN            NaN            NaN            NaN    156710   \n",
      "mean    374999.500000      31.503565      61.038912      45.184147       NaN   \n",
      "std     216506.495284       4.025574       6.647695      11.794594       NaN   \n",
      "min          0.000000      25.000000      50.000000      25.000000       NaN   \n",
      "25%     187499.750000      28.000000      55.000000      35.000000       NaN   \n",
      "50%     374999.500000      32.000000      61.000000      45.000000       NaN   \n",
      "75%     562499.250000      35.000000      67.000000      55.000000       NaN   \n",
      "max     749999.000000      38.000000      72.000000      65.000000       NaN   \n",
      "\n",
      "       Crop Type       Nitrogen      Potassium    Phosphorous Fertilizer Name  \n",
      "count     750000  750000.000000  750000.000000  750000.000000          750000  \n",
      "unique        11            NaN            NaN            NaN               7  \n",
      "top        Paddy            NaN            NaN            NaN        14-35-14  \n",
      "freq       85754            NaN            NaN            NaN          114436  \n",
      "mean         NaN      23.093808       9.478296      21.073227             NaN  \n",
      "std          NaN      11.216125       5.765622      12.346831             NaN  \n",
      "min          NaN       4.000000       0.000000       0.000000             NaN  \n",
      "25%          NaN      13.000000       4.000000      10.000000             NaN  \n",
      "50%          NaN      23.000000       9.000000      21.000000             NaN  \n",
      "75%          NaN      33.000000      14.000000      32.000000             NaN  \n",
      "max          NaN      42.000000      19.000000      42.000000             NaN  \n"
     ]
    }
   ],
   "source": [
    "# 2. Number of unique values per column\n",
    "unique_counts = train_df.nunique()\n",
    "print(\"Unique values per column:\\n\", unique_counts, \"\\n\")\n",
    "\n",
    "# 3. Basic statistics for numeric columns\n",
    "numeric_stats = train_df.describe()\n",
    "print(\"Basic numeric stats:\\n\", numeric_stats, \"\\n\")\n",
    "\n",
    "# 4. Basic statistics for all columns (including categoricals)\n",
    "all_stats = train_df.describe(include='all')\n",
    "print(\"All-columns stats:\\n\", all_stats)"
   ]
  }
 ],
 "metadata": {
  "kernelspec": {
   "display_name": "Python 3",
   "language": "python",
   "name": "python3"
  },
  "language_info": {
   "codemirror_mode": {
    "name": "ipython",
    "version": 3
   },
   "file_extension": ".py",
   "mimetype": "text/x-python",
   "name": "python",
   "nbconvert_exporter": "python",
   "pygments_lexer": "ipython3",
   "version": "3.13.3"
  }
 },
 "nbformat": 4,
 "nbformat_minor": 5
}
