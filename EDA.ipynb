{
 "cells": [
  {
   "cell_type": "markdown",
   "id": "a2be27c5",
   "metadata": {},
   "source": [
    "## EDA Notebook"
   ]
  },
  {
   "cell_type": "markdown",
   "id": "c1b3610a",
   "metadata": {},
   "source": [
    "### Contents:\n",
    "- "
   ]
  },
  {
   "cell_type": "markdown",
   "id": "431f7514",
   "metadata": {},
   "source": [
    "#### Imports"
   ]
  },
  {
   "cell_type": "code",
   "execution_count": 12,
   "id": "bae028f9",
   "metadata": {},
   "outputs": [],
   "source": [
    "import pandas as pd\n",
    "import sweetviz as sv\n"
   ]
  },
  {
   "cell_type": "markdown",
   "id": "bd9b3226",
   "metadata": {},
   "source": [
    "#### Load In Data"
   ]
  },
  {
   "cell_type": "code",
   "execution_count": 11,
   "id": "ad9ea9ab",
   "metadata": {},
   "outputs": [],
   "source": [
    "# File paths\n",
    "train_path = r\"C:/Users/johne/Downloads/train.csv\"\n",
    "test_path  = r\"C:/Users/johne/Downloads/test.csv\"\n",
    "\n",
    "# Load CSVs into DataFrames\n",
    "train_df = pd.read_csv(train_path)\n",
    "test_df  = pd.read_csv(test_path)\n"
   ]
  },
  {
   "cell_type": "markdown",
   "id": "1fecb9af",
   "metadata": {},
   "source": [
    "#### Visualizing Data "
   ]
  },
  {
   "cell_type": "markdown",
   "id": "9ce831b0",
   "metadata": {},
   "source": [
    "#### Data Head"
   ]
  },
  {
   "cell_type": "code",
   "execution_count": 14,
   "id": "0dde5455",
   "metadata": {},
   "outputs": [
    {
     "name": "stdout",
     "output_type": "stream",
     "text": [
      "   id  Temparature  Humidity  Moisture Soil Type  Crop Type  Nitrogen  \\\n",
      "0   0           37        70        36    Clayey  Sugarcane        36   \n",
      "1   1           27        69        65     Sandy    Millets        30   \n",
      "2   2           29        63        32     Sandy    Millets        24   \n",
      "3   3           35        62        54     Sandy     Barley        39   \n",
      "4   4           35        58        43       Red      Paddy        37   \n",
      "\n",
      "   Potassium  Phosphorous Fertilizer Name  \n",
      "0          4            5           28-28  \n",
      "1          6           18           28-28  \n",
      "2         12           16        17-17-17  \n",
      "3         12            4        10-26-26  \n",
      "4          2           16             DAP  \n",
      "       id  Temparature  Humidity  Moisture Soil Type    Crop Type  Nitrogen  \\\n",
      "0  750000           31        70        52     Sandy        Wheat        34   \n",
      "1  750001           27        62        45       Red    Sugarcane        30   \n",
      "2  750002           28        72        28    Clayey  Ground Nuts        14   \n",
      "3  750003           37        53        57     Black  Ground Nuts        18   \n",
      "4  750004           31        55        32       Red       Pulses        13   \n",
      "\n",
      "   Potassium  Phosphorous  \n",
      "0         11           24  \n",
      "1         14           15  \n",
      "2         15            4  \n",
      "3         17           36  \n",
      "4         19           14  \n"
     ]
    }
   ],
   "source": [
    "print(train_df.head())\n",
    "print(test_df.head())"
   ]
  },
  {
   "cell_type": "markdown",
   "id": "9b4e3d3f",
   "metadata": {},
   "source": [
    "##### Pandas Profiling Report"
   ]
  },
  {
   "cell_type": "code",
   "execution_count": null,
   "id": "fc849c62",
   "metadata": {},
   "outputs": [
    {
     "name": "stderr",
     "output_type": "stream",
     "text": [
      "Feature: id                                  |▉         | [  9%]   08:06 -> (1:21:08 left)\n",
      "Feature: id                                  |▉         | [  9%]   01:12 -> (12:09 left)\n",
      "Done! Use 'show' commands to display/save.   |██████████| [100%]   00:00 -> (00:00 left)\n"
     ]
    },
    {
     "name": "stdout",
     "output_type": "stream",
     "text": [
      "Report sweetviz_report.html was generated! NOTEBOOK/COLAB USERS: the web browser MAY not pop up, regardless, the report IS saved in your notebook/colab files.\n"
     ]
    }
   ],
   "source": [
    "import numpy as np\n",
    "\n",
    "# Monkey‐patch: re‑create VisibleDeprecationWarning if it’s missing\n",
    "if not hasattr(np, \"VisibleDeprecationWarning\"):\n",
    "    np.VisibleDeprecationWarning = Warning\n",
    "\n",
    "import pandas as pd\n",
    "import sweetviz as sv\n",
    "\n",
    "# 1. Load your data\n",
    "train_df = pd.read_csv(r\"C:\\Users\\johne\\Downloads\\train.csv\")\n",
    "\n",
    "# 2. Generate the Sweetviz report\n",
    "report = sv.analyze([train_df, \"Train Data\"])\n",
    "report.show_html(filepath=\"sweetviz_report.html\")\n",
    "\n"
   ]
  }
 ],
 "metadata": {
  "kernelspec": {
   "display_name": "Python 3",
   "language": "python",
   "name": "python3"
  },
  "language_info": {
   "codemirror_mode": {
    "name": "ipython",
    "version": 3
   },
   "file_extension": ".py",
   "mimetype": "text/x-python",
   "name": "python",
   "nbconvert_exporter": "python",
   "pygments_lexer": "ipython3",
   "version": "3.13.3"
  }
 },
 "nbformat": 4,
 "nbformat_minor": 5
}
